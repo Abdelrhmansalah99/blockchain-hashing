{
  "nbformat": 4,
  "nbformat_minor": 0,
  "metadata": {
    "colab": {
      "provenance": []
    },
    "kernelspec": {
      "name": "python3",
      "display_name": "Python 3"
    },
    "language_info": {
      "name": "python"
    }
  },
  "cells": [
    {
      "cell_type": "code",
      "execution_count": 3,
      "metadata": {
        "colab": {
          "base_uri": "https://localhost:8080/"
        },
        "id": "db752LJxp5X1",
        "outputId": "0dd9fa09-35d4-4951-c178-a7c983a90739"
      },
      "outputs": [
        {
          "output_type": "stream",
          "name": "stdout",
          "text": [
            "Blockchain:\n",
            "Data: Darwish Block\n",
            "Previous hash: 0\n",
            "Hash: ce30fdd7cfb7b2d3c5e77799298d7fca21376873f37047dea951b0929c743a4c405658e467976f59cc90ebbaafa9c5848e1f3af9ae83798724195309d565a5c6\n",
            "\n",
            "Data: First block\n",
            "Previous hash: ce30fdd7cfb7b2d3c5e77799298d7fca21376873f37047dea951b0929c743a4c405658e467976f59cc90ebbaafa9c5848e1f3af9ae83798724195309d565a5c6\n",
            "Hash: 7fd52acae7d31499a5c2f3480cd0a97221729d818eab0bd6fb7ab754221cfa0d5f423af6ee66caa780f8983776b30294b52b4e1947175ab35fb05fa4c279cd43\n",
            "\n",
            "Data: Second block\n",
            "Previous hash: 7fd52acae7d31499a5c2f3480cd0a97221729d818eab0bd6fb7ab754221cfa0d5f423af6ee66caa780f8983776b30294b52b4e1947175ab35fb05fa4c279cd43\n",
            "Hash: dfee3cd210a6ddfd79a8dd9ec2b46cdbe2b57ae339b052962d549ebf206ccd4a2b5dc85f6997dad7ad0adbcd1b0f9b99d0fee5e67e2c0c6125e28e37f38fa08a\n",
            "\n",
            "Data: Third block\n",
            "Previous hash: dfee3cd210a6ddfd79a8dd9ec2b46cdbe2b57ae339b052962d549ebf206ccd4a2b5dc85f6997dad7ad0adbcd1b0f9b99d0fee5e67e2c0c6125e28e37f38fa08a\n",
            "Hash: 2a1c17dc2ebf1f2359a14eae1256c5b077f2047cff6aaadd912ca04c1785d035c5a2d84d2a40a9af328859ab820b3c48d12aa04a0fb732f3b62bb86d2fca5f5d\n",
            "\n"
          ]
        }
      ],
      "source": [
        "# Import the library\n",
        "import hashlib\n",
        "\n",
        "# Create a Block class\n",
        "class Block:\n",
        "\n",
        "    def __init__(self, data, prev_hash):\n",
        "        self.data = data\n",
        "        self.prev_hash = prev_hash\n",
        "        self.hash = self.calc_hash()\n",
        "\n",
        "    def calc_hash(self):\n",
        "        sha = hashlib.sha512()  # Use SHA-512\n",
        "        sha.update(self.data.encode('utf-8'))\n",
        "        sha.update(self.prev_hash.encode('utf-8'))\n",
        "        return sha.hexdigest()\n",
        "\n",
        "# Create The Blockchain class\n",
        "class Blockchain:\n",
        "\n",
        "    def __init__(self):\n",
        "        self.chain = [self.create_Darwish_block()]\n",
        "\n",
        "    def create_Darwish_block(self):\n",
        "        return Block(\"Darwish Block\", \"0\")\n",
        "\n",
        "    def add_block(self, data):\n",
        "        prev_block = self.chain[-1]\n",
        "        new_block = Block(data, prev_block.hash)\n",
        "        self.chain.append(new_block)\n",
        "\n",
        "# Test The Blockchain\n",
        "blockchain = Blockchain()\n",
        "\n",
        "blockchain.add_block('First block')\n",
        "blockchain.add_block('Second block')\n",
        "blockchain.add_block('Third block')\n",
        "\n",
        "print('Blockchain:')\n",
        "for block in blockchain.chain:\n",
        "    print('Data:', block.data)\n",
        "    print('Previous hash:', block.prev_hash)\n",
        "    print('Hash:', block.hash)\n",
        "    print()"
      ]
    }
  ]
}